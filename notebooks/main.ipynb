{
 "cells": [
  {
   "cell_type": "markdown",
   "metadata": {},
   "source": [
    "# Credit Card Default Prediction\n",
    "\n",
    "The goal is to predict the likelihood of a client defaulting on their credit loans by crediting a credit score prediction model. \n",
    "\n",
    "By the end of this notebook exercise, we hope to have answered the following questions:\n",
    "1. How does the probability of default payment vary by categories of different demographic variables?\n",
    "2. Which variables are the strongest predictors of default payments?"
   ]
  },
  {
   "cell_type": "markdown",
   "metadata": {},
   "source": [
    "# Dataset\n",
    "\n",
    "Dataset contains 25 variables:\n",
    "\n",
    "- **ID**: ID of each client\n",
    "- **LIMIT_BAL**: Amount of given credit in NT dollars (includes individual and family/supplementary credit)\n",
    "- **SEX**: Gender (1=male, 2=female)\n",
    "- **EDUCATION**: (1=graduate school, 2=university, 3=high school, 4=others, 5=unknown, 6=unknown)\n",
    "- **MARRIAGE**: Marital status (1=married, 2=single, 3=others)\n",
    "- **AGE**: Age in years\n",
    "- **PAY_0**: Repayment status in September, 2005 (-1=pay duly, 1=payment delay for one month, 2=payment delay for two months, … 8=payment delay for eight months, 9=payment delay for nine months and above)\n",
    "- **PAY_2**: Repayment status in August, 2005 (scale same as above)\n",
    "- **PAY_3**: Repayment status in July, 2005 (scale same as above)\n",
    "- **PAY_4**: Repayment status in June, 2005 (scale same as above)\n",
    "- **PAY_5**: Repayment status in May, 2005 (scale same as above)\n",
    "- **PAY_6**: Repayment status in April, 2005 (scale same as above)\n",
    "- **BILL_AMT1**: Amount of bill statement in September, 2005 (NT dollar)\n",
    "- **BILL_AMT2**: Amount of bill statement in August, 2005 (NT dollar)\n",
    "- **BILL_AMT3**: Amount of bill statement in July, 2005 (NT dollar)\n",
    "- **BILL_AMT4**: Amount of bill statement in June, 2005 (NT dollar)\n",
    "- **BILL_AMT5**: Amount of bill statement in May, 2005 (NT dollar)\n",
    "- **BILL_AMT6**: Amount of bill statement in April, 2005 (NT dollar)\n",
    "- **PAY_AMT1**: Amount of previous payment in September, 2005 (NT dollar)\n",
    "- **PAY_AMT2**: Amount of previous payment in August, 2005 (NT dollar)\n",
    "- **PAY_AMT3**: Amount of previous payment in July, 2005 (NT dollar)\n",
    "- **PAY_AMT4**: Amount of previous payment in June, 2005 (NT dollar)\n",
    "- **PAY_AMT5**: Amount of previous payment in May, 2005 (NT dollar)\n",
    "- **PAY_AMT6**: Amount of previous payment in April, 2005 (NT dollar)\n",
    "- **default.payment.next.month**: Default payment (1=yes, 0=no)\n",
    "Inspiration"
   ]
  },
  {
   "cell_type": "code",
   "execution_count": null,
   "metadata": {},
   "outputs": [],
   "source": []
  },
  {
   "cell_type": "markdown",
   "metadata": {},
   "source": [
    "# Exploratory Data Analysis\n",
    "The goal of EDA is to uncover patterns, relationships, anomalies, and trends with the dataset. These discoveries provide insights that guides further analysis and decision-making. \n",
    "\n",
    "## Understand the data\n",
    "- get a good understanding of the data: such as number of observations,features, and data types\n",
    "- identify the target variable (variable which we want to predict) and understand its significance\n",
    "\n",
    "### Import Libraries"
   ]
  },
  {
   "cell_type": "code",
   "execution_count": 2,
   "metadata": {},
   "outputs": [],
   "source": [
    "import pandas as pd \n",
    "import numpy as np\n",
    "\n",
    "import plotly.express as px\n",
    "from plotly.subplots import make_subplots\n",
    "import plotly.graph_objs as go"
   ]
  },
  {
   "cell_type": "code",
   "execution_count": 3,
   "metadata": {},
   "outputs": [],
   "source": [
    "# read in the dataset\n",
    "df = pd.read_csv(r\"../data/raw/UCI_Credit_Card.csv\")"
   ]
  },
  {
   "cell_type": "markdown",
   "metadata": {},
   "source": [
    "### Data Size\n",
    "Check how many observations does the dataset contain?\n"
   ]
  },
  {
   "cell_type": "code",
   "execution_count": 5,
   "metadata": {},
   "outputs": [
    {
     "name": "stdout",
     "output_type": "stream",
     "text": [
      "The dataset has - 30000 rows and 25 columns.\n"
     ]
    }
   ],
   "source": [
    "# check the shape of the dataset\n",
    "df.shape # return the number of rows and columns as a tuple\n",
    "print(f\"The dataset has - {df.shape[0]} rows and {df.shape[1]} columns.\")"
   ]
  },
  {
   "cell_type": "markdown",
   "metadata": {},
   "source": [
    "### Data Preview\n",
    "What does the dataset look like? "
   ]
  },
  {
   "cell_type": "code",
   "execution_count": 6,
   "metadata": {},
   "outputs": [
    {
     "data": {
      "text/html": [
       "<div>\n",
       "<style scoped>\n",
       "    .dataframe tbody tr th:only-of-type {\n",
       "        vertical-align: middle;\n",
       "    }\n",
       "\n",
       "    .dataframe tbody tr th {\n",
       "        vertical-align: top;\n",
       "    }\n",
       "\n",
       "    .dataframe thead th {\n",
       "        text-align: right;\n",
       "    }\n",
       "</style>\n",
       "<table border=\"1\" class=\"dataframe\">\n",
       "  <thead>\n",
       "    <tr style=\"text-align: right;\">\n",
       "      <th></th>\n",
       "      <th>ID</th>\n",
       "      <th>LIMIT_BAL</th>\n",
       "      <th>SEX</th>\n",
       "      <th>EDUCATION</th>\n",
       "      <th>MARRIAGE</th>\n",
       "      <th>AGE</th>\n",
       "      <th>PAY_0</th>\n",
       "      <th>PAY_2</th>\n",
       "      <th>PAY_3</th>\n",
       "      <th>PAY_4</th>\n",
       "      <th>...</th>\n",
       "      <th>BILL_AMT4</th>\n",
       "      <th>BILL_AMT5</th>\n",
       "      <th>BILL_AMT6</th>\n",
       "      <th>PAY_AMT1</th>\n",
       "      <th>PAY_AMT2</th>\n",
       "      <th>PAY_AMT3</th>\n",
       "      <th>PAY_AMT4</th>\n",
       "      <th>PAY_AMT5</th>\n",
       "      <th>PAY_AMT6</th>\n",
       "      <th>default.payment.next.month</th>\n",
       "    </tr>\n",
       "  </thead>\n",
       "  <tbody>\n",
       "    <tr>\n",
       "      <th>0</th>\n",
       "      <td>1</td>\n",
       "      <td>20000.0</td>\n",
       "      <td>2</td>\n",
       "      <td>2</td>\n",
       "      <td>1</td>\n",
       "      <td>24</td>\n",
       "      <td>2</td>\n",
       "      <td>2</td>\n",
       "      <td>-1</td>\n",
       "      <td>-1</td>\n",
       "      <td>...</td>\n",
       "      <td>0.0</td>\n",
       "      <td>0.0</td>\n",
       "      <td>0.0</td>\n",
       "      <td>0.0</td>\n",
       "      <td>689.0</td>\n",
       "      <td>0.0</td>\n",
       "      <td>0.0</td>\n",
       "      <td>0.0</td>\n",
       "      <td>0.0</td>\n",
       "      <td>1</td>\n",
       "    </tr>\n",
       "    <tr>\n",
       "      <th>1</th>\n",
       "      <td>2</td>\n",
       "      <td>120000.0</td>\n",
       "      <td>2</td>\n",
       "      <td>2</td>\n",
       "      <td>2</td>\n",
       "      <td>26</td>\n",
       "      <td>-1</td>\n",
       "      <td>2</td>\n",
       "      <td>0</td>\n",
       "      <td>0</td>\n",
       "      <td>...</td>\n",
       "      <td>3272.0</td>\n",
       "      <td>3455.0</td>\n",
       "      <td>3261.0</td>\n",
       "      <td>0.0</td>\n",
       "      <td>1000.0</td>\n",
       "      <td>1000.0</td>\n",
       "      <td>1000.0</td>\n",
       "      <td>0.0</td>\n",
       "      <td>2000.0</td>\n",
       "      <td>1</td>\n",
       "    </tr>\n",
       "    <tr>\n",
       "      <th>2</th>\n",
       "      <td>3</td>\n",
       "      <td>90000.0</td>\n",
       "      <td>2</td>\n",
       "      <td>2</td>\n",
       "      <td>2</td>\n",
       "      <td>34</td>\n",
       "      <td>0</td>\n",
       "      <td>0</td>\n",
       "      <td>0</td>\n",
       "      <td>0</td>\n",
       "      <td>...</td>\n",
       "      <td>14331.0</td>\n",
       "      <td>14948.0</td>\n",
       "      <td>15549.0</td>\n",
       "      <td>1518.0</td>\n",
       "      <td>1500.0</td>\n",
       "      <td>1000.0</td>\n",
       "      <td>1000.0</td>\n",
       "      <td>1000.0</td>\n",
       "      <td>5000.0</td>\n",
       "      <td>0</td>\n",
       "    </tr>\n",
       "    <tr>\n",
       "      <th>3</th>\n",
       "      <td>4</td>\n",
       "      <td>50000.0</td>\n",
       "      <td>2</td>\n",
       "      <td>2</td>\n",
       "      <td>1</td>\n",
       "      <td>37</td>\n",
       "      <td>0</td>\n",
       "      <td>0</td>\n",
       "      <td>0</td>\n",
       "      <td>0</td>\n",
       "      <td>...</td>\n",
       "      <td>28314.0</td>\n",
       "      <td>28959.0</td>\n",
       "      <td>29547.0</td>\n",
       "      <td>2000.0</td>\n",
       "      <td>2019.0</td>\n",
       "      <td>1200.0</td>\n",
       "      <td>1100.0</td>\n",
       "      <td>1069.0</td>\n",
       "      <td>1000.0</td>\n",
       "      <td>0</td>\n",
       "    </tr>\n",
       "    <tr>\n",
       "      <th>4</th>\n",
       "      <td>5</td>\n",
       "      <td>50000.0</td>\n",
       "      <td>1</td>\n",
       "      <td>2</td>\n",
       "      <td>1</td>\n",
       "      <td>57</td>\n",
       "      <td>-1</td>\n",
       "      <td>0</td>\n",
       "      <td>-1</td>\n",
       "      <td>0</td>\n",
       "      <td>...</td>\n",
       "      <td>20940.0</td>\n",
       "      <td>19146.0</td>\n",
       "      <td>19131.0</td>\n",
       "      <td>2000.0</td>\n",
       "      <td>36681.0</td>\n",
       "      <td>10000.0</td>\n",
       "      <td>9000.0</td>\n",
       "      <td>689.0</td>\n",
       "      <td>679.0</td>\n",
       "      <td>0</td>\n",
       "    </tr>\n",
       "  </tbody>\n",
       "</table>\n",
       "<p>5 rows × 25 columns</p>\n",
       "</div>"
      ],
      "text/plain": [
       "   ID  LIMIT_BAL  SEX  EDUCATION  MARRIAGE  AGE  PAY_0  PAY_2  PAY_3  PAY_4  \\\n",
       "0   1    20000.0    2          2         1   24      2      2     -1     -1   \n",
       "1   2   120000.0    2          2         2   26     -1      2      0      0   \n",
       "2   3    90000.0    2          2         2   34      0      0      0      0   \n",
       "3   4    50000.0    2          2         1   37      0      0      0      0   \n",
       "4   5    50000.0    1          2         1   57     -1      0     -1      0   \n",
       "\n",
       "   ...  BILL_AMT4  BILL_AMT5  BILL_AMT6  PAY_AMT1  PAY_AMT2  PAY_AMT3  \\\n",
       "0  ...        0.0        0.0        0.0       0.0     689.0       0.0   \n",
       "1  ...     3272.0     3455.0     3261.0       0.0    1000.0    1000.0   \n",
       "2  ...    14331.0    14948.0    15549.0    1518.0    1500.0    1000.0   \n",
       "3  ...    28314.0    28959.0    29547.0    2000.0    2019.0    1200.0   \n",
       "4  ...    20940.0    19146.0    19131.0    2000.0   36681.0   10000.0   \n",
       "\n",
       "   PAY_AMT4  PAY_AMT5  PAY_AMT6  default.payment.next.month  \n",
       "0       0.0       0.0       0.0                           1  \n",
       "1    1000.0       0.0    2000.0                           1  \n",
       "2    1000.0    1000.0    5000.0                           0  \n",
       "3    1100.0    1069.0    1000.0                           0  \n",
       "4    9000.0     689.0     679.0                           0  \n",
       "\n",
       "[5 rows x 25 columns]"
      ]
     },
     "execution_count": 6,
     "metadata": {},
     "output_type": "execute_result"
    }
   ],
   "source": [
    "# show the first five observations\n",
    "df.head() # displays the first 5 rows of the dataset by default. "
   ]
  },
  {
   "cell_type": "markdown",
   "metadata": {},
   "source": [
    "### Data Types\n",
    "What type of information is stored in each column? "
   ]
  },
  {
   "cell_type": "code",
   "execution_count": 7,
   "metadata": {},
   "outputs": [
    {
     "name": "stdout",
     "output_type": "stream",
     "text": [
      "<class 'pandas.core.frame.DataFrame'>\n",
      "RangeIndex: 30000 entries, 0 to 29999\n",
      "Data columns (total 25 columns):\n",
      " #   Column                      Non-Null Count  Dtype  \n",
      "---  ------                      --------------  -----  \n",
      " 0   ID                          30000 non-null  int64  \n",
      " 1   LIMIT_BAL                   30000 non-null  float64\n",
      " 2   SEX                         30000 non-null  int64  \n",
      " 3   EDUCATION                   30000 non-null  int64  \n",
      " 4   MARRIAGE                    30000 non-null  int64  \n",
      " 5   AGE                         30000 non-null  int64  \n",
      " 6   PAY_0                       30000 non-null  int64  \n",
      " 7   PAY_2                       30000 non-null  int64  \n",
      " 8   PAY_3                       30000 non-null  int64  \n",
      " 9   PAY_4                       30000 non-null  int64  \n",
      " 10  PAY_5                       30000 non-null  int64  \n",
      " 11  PAY_6                       30000 non-null  int64  \n",
      " 12  BILL_AMT1                   30000 non-null  float64\n",
      " 13  BILL_AMT2                   30000 non-null  float64\n",
      " 14  BILL_AMT3                   30000 non-null  float64\n",
      " 15  BILL_AMT4                   30000 non-null  float64\n",
      " 16  BILL_AMT5                   30000 non-null  float64\n",
      " 17  BILL_AMT6                   30000 non-null  float64\n",
      " 18  PAY_AMT1                    30000 non-null  float64\n",
      " 19  PAY_AMT2                    30000 non-null  float64\n",
      " 20  PAY_AMT3                    30000 non-null  float64\n",
      " 21  PAY_AMT4                    30000 non-null  float64\n",
      " 22  PAY_AMT5                    30000 non-null  float64\n",
      " 23  PAY_AMT6                    30000 non-null  float64\n",
      " 24  default.payment.next.month  30000 non-null  int64  \n",
      "dtypes: float64(13), int64(12)\n",
      "memory usage: 5.7 MB\n"
     ]
    }
   ],
   "source": [
    "# return the data type information of each column\n",
    "df.info(memory_usage=\"deep\")"
   ]
  },
  {
   "cell_type": "markdown",
   "metadata": {},
   "source": [
    "The dataset is composed mainly of int64s and float64s. The dataframe using 5.7mb of memory. We can optimise this by adjusting the capacity (data type) used to store each column. This is done by checking the data range of each column and changing the capacity used to store them. \n"
   ]
  },
  {
   "cell_type": "code",
   "execution_count": 8,
   "metadata": {},
   "outputs": [],
   "source": [
    "# rename the target column \n",
    "df = df.rename(columns={\n",
    "    \"default.payment.next.month\":\"def_pay\"\n",
    "})"
   ]
  },
  {
   "cell_type": "code",
   "execution_count": 9,
   "metadata": {},
   "outputs": [
    {
     "data": {
      "text/plain": [
       "Index           132\n",
       "ID           240000\n",
       "LIMIT_BAL    240000\n",
       "SEX          240000\n",
       "EDUCATION    240000\n",
       "MARRIAGE     240000\n",
       "AGE          240000\n",
       "PAY_0        240000\n",
       "PAY_2        240000\n",
       "PAY_3        240000\n",
       "PAY_4        240000\n",
       "PAY_5        240000\n",
       "PAY_6        240000\n",
       "BILL_AMT1    240000\n",
       "BILL_AMT2    240000\n",
       "BILL_AMT3    240000\n",
       "BILL_AMT4    240000\n",
       "BILL_AMT5    240000\n",
       "BILL_AMT6    240000\n",
       "PAY_AMT1     240000\n",
       "PAY_AMT2     240000\n",
       "PAY_AMT3     240000\n",
       "PAY_AMT4     240000\n",
       "PAY_AMT5     240000\n",
       "PAY_AMT6     240000\n",
       "def_pay      240000\n",
       "dtype: int64"
      ]
     },
     "execution_count": 9,
     "metadata": {},
     "output_type": "execute_result"
    }
   ],
   "source": [
    "# look at the memory used by each column\n",
    "df.memory_usage(deep=True)"
   ]
  },
  {
   "cell_type": "code",
   "execution_count": 10,
   "metadata": {},
   "outputs": [
    {
     "data": {
      "text/html": [
       "<div>\n",
       "<style scoped>\n",
       "    .dataframe tbody tr th:only-of-type {\n",
       "        vertical-align: middle;\n",
       "    }\n",
       "\n",
       "    .dataframe tbody tr th {\n",
       "        vertical-align: top;\n",
       "    }\n",
       "\n",
       "    .dataframe thead th {\n",
       "        text-align: right;\n",
       "    }\n",
       "</style>\n",
       "<table border=\"1\" class=\"dataframe\">\n",
       "  <thead>\n",
       "    <tr style=\"text-align: right;\">\n",
       "      <th></th>\n",
       "      <th>count</th>\n",
       "      <th>mean</th>\n",
       "      <th>std</th>\n",
       "      <th>min</th>\n",
       "      <th>25%</th>\n",
       "      <th>50%</th>\n",
       "      <th>75%</th>\n",
       "      <th>max</th>\n",
       "    </tr>\n",
       "  </thead>\n",
       "  <tbody>\n",
       "    <tr>\n",
       "      <th>ID</th>\n",
       "      <td>30000.0</td>\n",
       "      <td>15000.500000</td>\n",
       "      <td>8660.398374</td>\n",
       "      <td>1.0</td>\n",
       "      <td>7500.75</td>\n",
       "      <td>15000.5</td>\n",
       "      <td>22500.25</td>\n",
       "      <td>30000.0</td>\n",
       "    </tr>\n",
       "    <tr>\n",
       "      <th>LIMIT_BAL</th>\n",
       "      <td>30000.0</td>\n",
       "      <td>167484.322667</td>\n",
       "      <td>129747.661567</td>\n",
       "      <td>10000.0</td>\n",
       "      <td>50000.00</td>\n",
       "      <td>140000.0</td>\n",
       "      <td>240000.00</td>\n",
       "      <td>1000000.0</td>\n",
       "    </tr>\n",
       "    <tr>\n",
       "      <th>SEX</th>\n",
       "      <td>30000.0</td>\n",
       "      <td>1.603733</td>\n",
       "      <td>0.489129</td>\n",
       "      <td>1.0</td>\n",
       "      <td>1.00</td>\n",
       "      <td>2.0</td>\n",
       "      <td>2.00</td>\n",
       "      <td>2.0</td>\n",
       "    </tr>\n",
       "    <tr>\n",
       "      <th>EDUCATION</th>\n",
       "      <td>30000.0</td>\n",
       "      <td>1.853133</td>\n",
       "      <td>0.790349</td>\n",
       "      <td>0.0</td>\n",
       "      <td>1.00</td>\n",
       "      <td>2.0</td>\n",
       "      <td>2.00</td>\n",
       "      <td>6.0</td>\n",
       "    </tr>\n",
       "    <tr>\n",
       "      <th>MARRIAGE</th>\n",
       "      <td>30000.0</td>\n",
       "      <td>1.551867</td>\n",
       "      <td>0.521970</td>\n",
       "      <td>0.0</td>\n",
       "      <td>1.00</td>\n",
       "      <td>2.0</td>\n",
       "      <td>2.00</td>\n",
       "      <td>3.0</td>\n",
       "    </tr>\n",
       "    <tr>\n",
       "      <th>AGE</th>\n",
       "      <td>30000.0</td>\n",
       "      <td>35.485500</td>\n",
       "      <td>9.217904</td>\n",
       "      <td>21.0</td>\n",
       "      <td>28.00</td>\n",
       "      <td>34.0</td>\n",
       "      <td>41.00</td>\n",
       "      <td>79.0</td>\n",
       "    </tr>\n",
       "    <tr>\n",
       "      <th>PAY_0</th>\n",
       "      <td>30000.0</td>\n",
       "      <td>-0.016700</td>\n",
       "      <td>1.123802</td>\n",
       "      <td>-2.0</td>\n",
       "      <td>-1.00</td>\n",
       "      <td>0.0</td>\n",
       "      <td>0.00</td>\n",
       "      <td>8.0</td>\n",
       "    </tr>\n",
       "    <tr>\n",
       "      <th>PAY_2</th>\n",
       "      <td>30000.0</td>\n",
       "      <td>-0.133767</td>\n",
       "      <td>1.197186</td>\n",
       "      <td>-2.0</td>\n",
       "      <td>-1.00</td>\n",
       "      <td>0.0</td>\n",
       "      <td>0.00</td>\n",
       "      <td>8.0</td>\n",
       "    </tr>\n",
       "    <tr>\n",
       "      <th>PAY_3</th>\n",
       "      <td>30000.0</td>\n",
       "      <td>-0.166200</td>\n",
       "      <td>1.196868</td>\n",
       "      <td>-2.0</td>\n",
       "      <td>-1.00</td>\n",
       "      <td>0.0</td>\n",
       "      <td>0.00</td>\n",
       "      <td>8.0</td>\n",
       "    </tr>\n",
       "    <tr>\n",
       "      <th>PAY_4</th>\n",
       "      <td>30000.0</td>\n",
       "      <td>-0.220667</td>\n",
       "      <td>1.169139</td>\n",
       "      <td>-2.0</td>\n",
       "      <td>-1.00</td>\n",
       "      <td>0.0</td>\n",
       "      <td>0.00</td>\n",
       "      <td>8.0</td>\n",
       "    </tr>\n",
       "    <tr>\n",
       "      <th>PAY_5</th>\n",
       "      <td>30000.0</td>\n",
       "      <td>-0.266200</td>\n",
       "      <td>1.133187</td>\n",
       "      <td>-2.0</td>\n",
       "      <td>-1.00</td>\n",
       "      <td>0.0</td>\n",
       "      <td>0.00</td>\n",
       "      <td>8.0</td>\n",
       "    </tr>\n",
       "    <tr>\n",
       "      <th>PAY_6</th>\n",
       "      <td>30000.0</td>\n",
       "      <td>-0.291100</td>\n",
       "      <td>1.149988</td>\n",
       "      <td>-2.0</td>\n",
       "      <td>-1.00</td>\n",
       "      <td>0.0</td>\n",
       "      <td>0.00</td>\n",
       "      <td>8.0</td>\n",
       "    </tr>\n",
       "    <tr>\n",
       "      <th>BILL_AMT1</th>\n",
       "      <td>30000.0</td>\n",
       "      <td>51223.330900</td>\n",
       "      <td>73635.860576</td>\n",
       "      <td>-165580.0</td>\n",
       "      <td>3558.75</td>\n",
       "      <td>22381.5</td>\n",
       "      <td>67091.00</td>\n",
       "      <td>964511.0</td>\n",
       "    </tr>\n",
       "    <tr>\n",
       "      <th>BILL_AMT2</th>\n",
       "      <td>30000.0</td>\n",
       "      <td>49179.075167</td>\n",
       "      <td>71173.768783</td>\n",
       "      <td>-69777.0</td>\n",
       "      <td>2984.75</td>\n",
       "      <td>21200.0</td>\n",
       "      <td>64006.25</td>\n",
       "      <td>983931.0</td>\n",
       "    </tr>\n",
       "    <tr>\n",
       "      <th>BILL_AMT3</th>\n",
       "      <td>30000.0</td>\n",
       "      <td>47013.154800</td>\n",
       "      <td>69349.387427</td>\n",
       "      <td>-157264.0</td>\n",
       "      <td>2666.25</td>\n",
       "      <td>20088.5</td>\n",
       "      <td>60164.75</td>\n",
       "      <td>1664089.0</td>\n",
       "    </tr>\n",
       "    <tr>\n",
       "      <th>BILL_AMT4</th>\n",
       "      <td>30000.0</td>\n",
       "      <td>43262.948967</td>\n",
       "      <td>64332.856134</td>\n",
       "      <td>-170000.0</td>\n",
       "      <td>2326.75</td>\n",
       "      <td>19052.0</td>\n",
       "      <td>54506.00</td>\n",
       "      <td>891586.0</td>\n",
       "    </tr>\n",
       "    <tr>\n",
       "      <th>BILL_AMT5</th>\n",
       "      <td>30000.0</td>\n",
       "      <td>40311.400967</td>\n",
       "      <td>60797.155770</td>\n",
       "      <td>-81334.0</td>\n",
       "      <td>1763.00</td>\n",
       "      <td>18104.5</td>\n",
       "      <td>50190.50</td>\n",
       "      <td>927171.0</td>\n",
       "    </tr>\n",
       "    <tr>\n",
       "      <th>BILL_AMT6</th>\n",
       "      <td>30000.0</td>\n",
       "      <td>38871.760400</td>\n",
       "      <td>59554.107537</td>\n",
       "      <td>-339603.0</td>\n",
       "      <td>1256.00</td>\n",
       "      <td>17071.0</td>\n",
       "      <td>49198.25</td>\n",
       "      <td>961664.0</td>\n",
       "    </tr>\n",
       "    <tr>\n",
       "      <th>PAY_AMT1</th>\n",
       "      <td>30000.0</td>\n",
       "      <td>5663.580500</td>\n",
       "      <td>16563.280354</td>\n",
       "      <td>0.0</td>\n",
       "      <td>1000.00</td>\n",
       "      <td>2100.0</td>\n",
       "      <td>5006.00</td>\n",
       "      <td>873552.0</td>\n",
       "    </tr>\n",
       "    <tr>\n",
       "      <th>PAY_AMT2</th>\n",
       "      <td>30000.0</td>\n",
       "      <td>5921.163500</td>\n",
       "      <td>23040.870402</td>\n",
       "      <td>0.0</td>\n",
       "      <td>833.00</td>\n",
       "      <td>2009.0</td>\n",
       "      <td>5000.00</td>\n",
       "      <td>1684259.0</td>\n",
       "    </tr>\n",
       "    <tr>\n",
       "      <th>PAY_AMT3</th>\n",
       "      <td>30000.0</td>\n",
       "      <td>5225.681500</td>\n",
       "      <td>17606.961470</td>\n",
       "      <td>0.0</td>\n",
       "      <td>390.00</td>\n",
       "      <td>1800.0</td>\n",
       "      <td>4505.00</td>\n",
       "      <td>896040.0</td>\n",
       "    </tr>\n",
       "    <tr>\n",
       "      <th>PAY_AMT4</th>\n",
       "      <td>30000.0</td>\n",
       "      <td>4826.076867</td>\n",
       "      <td>15666.159744</td>\n",
       "      <td>0.0</td>\n",
       "      <td>296.00</td>\n",
       "      <td>1500.0</td>\n",
       "      <td>4013.25</td>\n",
       "      <td>621000.0</td>\n",
       "    </tr>\n",
       "    <tr>\n",
       "      <th>PAY_AMT5</th>\n",
       "      <td>30000.0</td>\n",
       "      <td>4799.387633</td>\n",
       "      <td>15278.305679</td>\n",
       "      <td>0.0</td>\n",
       "      <td>252.50</td>\n",
       "      <td>1500.0</td>\n",
       "      <td>4031.50</td>\n",
       "      <td>426529.0</td>\n",
       "    </tr>\n",
       "    <tr>\n",
       "      <th>PAY_AMT6</th>\n",
       "      <td>30000.0</td>\n",
       "      <td>5215.502567</td>\n",
       "      <td>17777.465775</td>\n",
       "      <td>0.0</td>\n",
       "      <td>117.75</td>\n",
       "      <td>1500.0</td>\n",
       "      <td>4000.00</td>\n",
       "      <td>528666.0</td>\n",
       "    </tr>\n",
       "    <tr>\n",
       "      <th>def_pay</th>\n",
       "      <td>30000.0</td>\n",
       "      <td>0.221200</td>\n",
       "      <td>0.415062</td>\n",
       "      <td>0.0</td>\n",
       "      <td>0.00</td>\n",
       "      <td>0.0</td>\n",
       "      <td>0.00</td>\n",
       "      <td>1.0</td>\n",
       "    </tr>\n",
       "  </tbody>\n",
       "</table>\n",
       "</div>"
      ],
      "text/plain": [
       "             count           mean            std       min       25%  \\\n",
       "ID         30000.0   15000.500000    8660.398374       1.0   7500.75   \n",
       "LIMIT_BAL  30000.0  167484.322667  129747.661567   10000.0  50000.00   \n",
       "SEX        30000.0       1.603733       0.489129       1.0      1.00   \n",
       "EDUCATION  30000.0       1.853133       0.790349       0.0      1.00   \n",
       "MARRIAGE   30000.0       1.551867       0.521970       0.0      1.00   \n",
       "AGE        30000.0      35.485500       9.217904      21.0     28.00   \n",
       "PAY_0      30000.0      -0.016700       1.123802      -2.0     -1.00   \n",
       "PAY_2      30000.0      -0.133767       1.197186      -2.0     -1.00   \n",
       "PAY_3      30000.0      -0.166200       1.196868      -2.0     -1.00   \n",
       "PAY_4      30000.0      -0.220667       1.169139      -2.0     -1.00   \n",
       "PAY_5      30000.0      -0.266200       1.133187      -2.0     -1.00   \n",
       "PAY_6      30000.0      -0.291100       1.149988      -2.0     -1.00   \n",
       "BILL_AMT1  30000.0   51223.330900   73635.860576 -165580.0   3558.75   \n",
       "BILL_AMT2  30000.0   49179.075167   71173.768783  -69777.0   2984.75   \n",
       "BILL_AMT3  30000.0   47013.154800   69349.387427 -157264.0   2666.25   \n",
       "BILL_AMT4  30000.0   43262.948967   64332.856134 -170000.0   2326.75   \n",
       "BILL_AMT5  30000.0   40311.400967   60797.155770  -81334.0   1763.00   \n",
       "BILL_AMT6  30000.0   38871.760400   59554.107537 -339603.0   1256.00   \n",
       "PAY_AMT1   30000.0    5663.580500   16563.280354       0.0   1000.00   \n",
       "PAY_AMT2   30000.0    5921.163500   23040.870402       0.0    833.00   \n",
       "PAY_AMT3   30000.0    5225.681500   17606.961470       0.0    390.00   \n",
       "PAY_AMT4   30000.0    4826.076867   15666.159744       0.0    296.00   \n",
       "PAY_AMT5   30000.0    4799.387633   15278.305679       0.0    252.50   \n",
       "PAY_AMT6   30000.0    5215.502567   17777.465775       0.0    117.75   \n",
       "def_pay    30000.0       0.221200       0.415062       0.0      0.00   \n",
       "\n",
       "                50%        75%        max  \n",
       "ID          15000.5   22500.25    30000.0  \n",
       "LIMIT_BAL  140000.0  240000.00  1000000.0  \n",
       "SEX             2.0       2.00        2.0  \n",
       "EDUCATION       2.0       2.00        6.0  \n",
       "MARRIAGE        2.0       2.00        3.0  \n",
       "AGE            34.0      41.00       79.0  \n",
       "PAY_0           0.0       0.00        8.0  \n",
       "PAY_2           0.0       0.00        8.0  \n",
       "PAY_3           0.0       0.00        8.0  \n",
       "PAY_4           0.0       0.00        8.0  \n",
       "PAY_5           0.0       0.00        8.0  \n",
       "PAY_6           0.0       0.00        8.0  \n",
       "BILL_AMT1   22381.5   67091.00   964511.0  \n",
       "BILL_AMT2   21200.0   64006.25   983931.0  \n",
       "BILL_AMT3   20088.5   60164.75  1664089.0  \n",
       "BILL_AMT4   19052.0   54506.00   891586.0  \n",
       "BILL_AMT5   18104.5   50190.50   927171.0  \n",
       "BILL_AMT6   17071.0   49198.25   961664.0  \n",
       "PAY_AMT1     2100.0    5006.00   873552.0  \n",
       "PAY_AMT2     2009.0    5000.00  1684259.0  \n",
       "PAY_AMT3     1800.0    4505.00   896040.0  \n",
       "PAY_AMT4     1500.0    4013.25   621000.0  \n",
       "PAY_AMT5     1500.0    4031.50   426529.0  \n",
       "PAY_AMT6     1500.0    4000.00   528666.0  \n",
       "def_pay         0.0       0.00        1.0  "
      ]
     },
     "execution_count": 10,
     "metadata": {},
     "output_type": "execute_result"
    }
   ],
   "source": [
    "# get the statistical distribution of the dataset.\n",
    "df.describe().transpose()"
   ]
  },
  {
   "cell_type": "markdown",
   "metadata": {},
   "source": [
    "From the output above, the majority of numeric columns do not need to be stored with int64 datatype. Why? Their values are well under the max capacity required for an 1nt64. We can store in a datatype that is more close to their capacity. Also, some values are unsigned. Therefore no need for storage of negative ranges.  "
   ]
  },
  {
   "cell_type": "code",
   "execution_count": 11,
   "metadata": {},
   "outputs": [],
   "source": [
    "# change to appropriate data type - uint8\n",
    "df[\"AGE\"] = df[\"AGE\"].astype(\"uint8\")\n",
    "df[\"SEX\"] = df[\"SEX\"].astype(\"uint8\")\n",
    "df[\"EDUCATION\"] = df[\"EDUCATION\"].astype(\"uint8\")\n",
    "df[\"MARRIAGE\"] = df[\"MARRIAGE\"].astype(\"uint8\")\n",
    "df[\"def_pay\"] = df[\"def_pay\"].astype(\"uint8\")"
   ]
  },
  {
   "cell_type": "code",
   "execution_count": 12,
   "metadata": {},
   "outputs": [],
   "source": [
    "# change to appropriate data type - uint8\n",
    "temp_list = [0, 2, 3, 4, 5, 6]\n",
    "for i in temp_list:\n",
    "    df[f\"PAY_{i}\"] = df[f\"PAY_{i}\"].astype(\"int8\")"
   ]
  },
  {
   "cell_type": "code",
   "execution_count": 13,
   "metadata": {},
   "outputs": [],
   "source": [
    "# change to appropriate data type - float32\n",
    "temp_list = [1, 2, 3, 4, 5, 6]\n",
    "for i in temp_list:\n",
    "    df[f\"PAY_AMT{i}\"] = df[f\"PAY_AMT{i}\"].astype(\"float32\")"
   ]
  },
  {
   "cell_type": "code",
   "execution_count": 14,
   "metadata": {},
   "outputs": [
    {
     "name": "stdout",
     "output_type": "stream",
     "text": [
      "<class 'pandas.core.frame.DataFrame'>\n",
      "RangeIndex: 30000 entries, 0 to 29999\n",
      "Data columns (total 25 columns):\n",
      " #   Column     Non-Null Count  Dtype  \n",
      "---  ------     --------------  -----  \n",
      " 0   ID         30000 non-null  int64  \n",
      " 1   LIMIT_BAL  30000 non-null  float64\n",
      " 2   SEX        30000 non-null  uint8  \n",
      " 3   EDUCATION  30000 non-null  uint8  \n",
      " 4   MARRIAGE   30000 non-null  uint8  \n",
      " 5   AGE        30000 non-null  uint8  \n",
      " 6   PAY_0      30000 non-null  int8   \n",
      " 7   PAY_2      30000 non-null  int8   \n",
      " 8   PAY_3      30000 non-null  int8   \n",
      " 9   PAY_4      30000 non-null  int8   \n",
      " 10  PAY_5      30000 non-null  int8   \n",
      " 11  PAY_6      30000 non-null  int8   \n",
      " 12  BILL_AMT1  30000 non-null  float64\n",
      " 13  BILL_AMT2  30000 non-null  float64\n",
      " 14  BILL_AMT3  30000 non-null  float64\n",
      " 15  BILL_AMT4  30000 non-null  float64\n",
      " 16  BILL_AMT5  30000 non-null  float64\n",
      " 17  BILL_AMT6  30000 non-null  float64\n",
      " 18  PAY_AMT1   30000 non-null  float32\n",
      " 19  PAY_AMT2   30000 non-null  float32\n",
      " 20  PAY_AMT3   30000 non-null  float32\n",
      " 21  PAY_AMT4   30000 non-null  float32\n",
      " 22  PAY_AMT5   30000 non-null  float32\n",
      " 23  PAY_AMT6   30000 non-null  float32\n",
      " 24  def_pay    30000 non-null  uint8  \n",
      "dtypes: float32(6), float64(7), int64(1), int8(6), uint8(5)\n",
      "memory usage: 2.8 MB\n"
     ]
    }
   ],
   "source": [
    "# check memory usage after datatype changes\n",
    "df.info(memory_usage=\"deep\")"
   ]
  },
  {
   "cell_type": "markdown",
   "metadata": {},
   "source": [
    "- managed to reduce the memory used by the dataframe from 5.7mb to 2.8mb, a 68% difference"
   ]
  },
  {
   "cell_type": "markdown",
   "metadata": {},
   "source": [
    "### Missing Values\n",
    "Check for any missing or duplicate values in the dataset."
   ]
  },
  {
   "cell_type": "code",
   "execution_count": 15,
   "metadata": {},
   "outputs": [
    {
     "data": {
      "text/plain": [
       "ID           0\n",
       "LIMIT_BAL    0\n",
       "SEX          0\n",
       "EDUCATION    0\n",
       "MARRIAGE     0\n",
       "AGE          0\n",
       "PAY_0        0\n",
       "PAY_2        0\n",
       "PAY_3        0\n",
       "PAY_4        0\n",
       "PAY_5        0\n",
       "PAY_6        0\n",
       "BILL_AMT1    0\n",
       "BILL_AMT2    0\n",
       "BILL_AMT3    0\n",
       "BILL_AMT4    0\n",
       "BILL_AMT5    0\n",
       "BILL_AMT6    0\n",
       "PAY_AMT1     0\n",
       "PAY_AMT2     0\n",
       "PAY_AMT3     0\n",
       "PAY_AMT4     0\n",
       "PAY_AMT5     0\n",
       "PAY_AMT6     0\n",
       "def_pay      0\n",
       "dtype: int64"
      ]
     },
     "execution_count": 15,
     "metadata": {},
     "output_type": "execute_result"
    }
   ],
   "source": [
    "# check for missing values in the dataset\n",
    "df.isna().sum()"
   ]
  },
  {
   "cell_type": "code",
   "execution_count": 16,
   "metadata": {},
   "outputs": [
    {
     "name": "stdout",
     "output_type": "stream",
     "text": [
      "Number of duplicate values 0.\n"
     ]
    }
   ],
   "source": [
    "# check for data duplicates\n",
    "print(f\"Number of duplicate values {df.duplicated().sum()}.\")"
   ]
  },
  {
   "cell_type": "markdown",
   "metadata": {},
   "source": [
    "### Correlation Analysis\n",
    "Important check - how does each dataset variable relate to other dataset variable. "
   ]
  },
  {
   "cell_type": "code",
   "execution_count": 17,
   "metadata": {},
   "outputs": [
    {
     "data": {
      "text/plain": [
       "LIMIT_BAL   -0.153520\n",
       "PAY_AMT1    -0.072929\n",
       "PAY_AMT2    -0.058579\n",
       "PAY_AMT4    -0.056827\n",
       "PAY_AMT3    -0.056250\n",
       "PAY_AMT5    -0.055124\n",
       "PAY_AMT6    -0.053183\n",
       "SEX         -0.039961\n",
       "MARRIAGE    -0.024339\n",
       "BILL_AMT1   -0.019644\n",
       "BILL_AMT2   -0.014193\n",
       "BILL_AMT3   -0.014076\n",
       "ID          -0.013952\n",
       "BILL_AMT4   -0.010156\n",
       "BILL_AMT5   -0.006760\n",
       "BILL_AMT6   -0.005372\n",
       "AGE          0.013890\n",
       "EDUCATION    0.028006\n",
       "PAY_6        0.186866\n",
       "PAY_5        0.204149\n",
       "PAY_4        0.216614\n",
       "PAY_3        0.235253\n",
       "PAY_2        0.263551\n",
       "PAY_0        0.324794\n",
       "def_pay      1.000000\n",
       "Name: def_pay, dtype: float64"
      ]
     },
     "execution_count": 17,
     "metadata": {},
     "output_type": "execute_result"
    }
   ],
   "source": [
    "# calculate the correlation matrix\n",
    "corr = df.corr()\n",
    "# extract the target variable - def_pay\n",
    "next_month_default_corr = corr[\"def_pay\"].sort_values()\n",
    "next_month_default_corr"
   ]
  },
  {
   "cell_type": "code",
   "execution_count": 19,
   "metadata": {},
   "outputs": [
    {
     "data": {
      "application/vnd.plotly.v1+json": {
       "config": {
        "plotlyServerURL": "https://plot.ly"
       },
       "data": [
        {
         "coloraxis": "coloraxis",
         "hovertemplate": "x: %{x}<br>y: %{y}<br>color: %{z}<extra></extra>",
         "name": "0",
         "texttemplate": "%{z}",
         "type": "heatmap",
         "x": [
          "ID",
          "LIMIT_BAL",
          "SEX",
          "EDUCATION",
          "MARRIAGE",
          "AGE",
          "PAY_0",
          "PAY_2",
          "PAY_3",
          "PAY_4",
          "PAY_5",
          "PAY_6",
          "BILL_AMT1",
          "BILL_AMT2",
          "BILL_AMT3",
          "BILL_AMT4",
          "BILL_AMT5",
          "BILL_AMT6",
          "PAY_AMT1",
          "PAY_AMT2",
          "PAY_AMT3",
          "PAY_AMT4",
          "PAY_AMT5",
          "PAY_AMT6",
          "def_pay"
         ],
         "xaxis": "x",
         "y": [
          "ID",
          "LIMIT_BAL",
          "SEX",
          "EDUCATION",
          "MARRIAGE",
          "AGE",
          "PAY_0",
          "PAY_2",
          "PAY_3",
          "PAY_4",
          "PAY_5",
          "PAY_6",
          "BILL_AMT1",
          "BILL_AMT2",
          "BILL_AMT3",
          "BILL_AMT4",
          "BILL_AMT5",
          "BILL_AMT6",
          "PAY_AMT1",
          "PAY_AMT2",
          "PAY_AMT3",
          "PAY_AMT4",
          "PAY_AMT5",
          "PAY_AMT6",
          "def_pay"
         ],
         "yaxis": "y",
         "z": [
          [
           1,
           0.026179157746200676,
           0.018497494176208946,
           0.03917673481156991,
           -0.029079425318771064,
           0.018677734490293255,
           -0.030574932272971513,
           -0.011214868262343643,
           -0.01849355375769933,
           -0.0027348897819592004,
           -0.022199231870021336,
           -0.020270134067212064,
           0.019388673917611145,
           0.017981897457701318,
           0.024354050018843155,
           0.040350602942506635,
           0.01670530315635218,
           0.016729618316253813,
           0.009742443464325092,
           0.008406120336439189,
           0.03915053548888941,
           0.007793129725698235,
           0.0006521877787619749,
           0.0029997807225257667,
           -0.013951954838986251
          ],
          [
           0.026179157746200676,
           1,
           0.02475523511164408,
           -0.2191606982292116,
           -0.10813941027801287,
           0.14471279755733674,
           -0.2712143321347179,
           -0.29638210099648243,
           -0.2861229539031144,
           -0.267460009639393,
           -0.2494113948241093,
           -0.23519539948542492,
           0.28542986496498995,
           0.27831436399776105,
           0.28323578358168416,
           0.29398762371598486,
           0.29556233765823164,
           0.29038895064794745,
           0.1952359152322094,
           0.17840795368370507,
           0.21016674772338803,
           0.20324241022458292,
           0.21720243239549614,
           0.21959536860441753,
           -0.1535198763935072
          ],
          [
           0.018497494176208946,
           0.02475523511164408,
           1,
           0.014231936162206107,
           -0.03138884007085218,
           -0.0908736465273919,
           -0.05764287886698678,
           -0.07077100316682232,
           -0.06609605640043047,
           -0.060173238366203696,
           -0.055063885035226384,
           -0.044007788187657874,
           -0.03364186958914916,
           -0.031183472229667317,
           -0.024563311681403167,
           -0.02187967907348509,
           -0.017005180187325976,
           -0.016733126348159072,
           -0.00024245456294142142,
           -0.0013909096590868529,
           -0.008596624911743908,
           -0.0022289715070058893,
           -0.001667161800474087,
           -0.002766022282891727,
           -0.03996057770544172
          ],
          [
           0.03917673481156991,
           -0.2191606982292116,
           0.014231936162206107,
           1,
           -0.14346434041144784,
           0.1750606614880855,
           0.10536399793532485,
           0.12156555247067018,
           0.1140249028571366,
           0.10879345615278765,
           0.09752016063019563,
           0.08231598637746822,
           0.023581180737114394,
           0.01874877080832243,
           0.013002400711998924,
           -0.0004513453087491106,
           -0.007566503046841711,
           -0.009098954697455372,
           -0.03745618391311648,
           -0.030038186562838978,
           -0.039943140867107346,
           -0.03821816611134147,
           -0.040358454928196924,
           -0.03719990308916937,
           0.028006077656250204
          ],
          [
           -0.029079425318771064,
           -0.10813941027801287,
           -0.03138884007085218,
           -0.14346434041144784,
           1,
           -0.41416991848813445,
           0.019917190483426727,
           0.02419906728119339,
           0.03268767333723676,
           0.03312154891405528,
           0.03562917036655554,
           0.034344765997445445,
           -0.02347180191012958,
           -0.021601779859030307,
           -0.024909451022500993,
           -0.023343846915375947,
           -0.02539339799127468,
           -0.02120682480007915,
           -0.005978999780835323,
           -0.008092702837779889,
           -0.0035413519467573816,
           -0.01265927889271911,
           -0.0012047569155652466,
           -0.006640941925653474,
           -0.024339215683404438
          ],
          [
           0.018677734490293255,
           0.14471279755733674,
           -0.0908736465273919,
           0.1750606614880855,
           -0.41416991848813445,
           1,
           -0.03944737618411981,
           -0.05014777620685522,
           -0.05304843725816334,
           -0.049721673995377226,
           -0.05382597641308578,
           -0.04877342642832421,
           0.05623853326056659,
           0.05428307435034244,
           0.053709705178660236,
           0.051353093243321435,
           0.04934504811261178,
           0.047612677990511255,
           0.026146679056989194,
           0.021784893392614194,
           0.029247353045011425,
           0.021379005615589863,
           0.02284997355855876,
           0.0194781529698698,
           0.013889834301962887
          ],
          [
           -0.030574932272971513,
           -0.2712143321347179,
           -0.05764287886698678,
           0.10536399793532485,
           0.019917190483426727,
           -0.03944737618411981,
           1,
           0.6721643825483142,
           0.5742450926204379,
           0.5388406268712334,
           0.5094260636654446,
           0.4745530860641517,
           0.18706843147380112,
           0.18985910889354435,
           0.17978528216681916,
           0.1791247706258787,
           0.18063462540120856,
           0.1769802956414379,
           -0.0792687111854195,
           -0.0701005211939387,
           -0.07056083767035479,
           -0.06400488888773119,
           -0.058189885949777295,
           -0.058673214376070426,
           0.32479372847862237
          ],
          [
           -0.011214868262343643,
           -0.29638210099648243,
           -0.07077100316682232,
           0.12156555247067018,
           0.02419906728119339,
           -0.05014777620685522,
           0.6721643825483142,
           1,
           0.7665516829341017,
           0.6620671310239591,
           0.6227802453768703,
           0.5755008617793054,
           0.23488652660358378,
           0.23525694274352654,
           0.22414585503162604,
           0.22223651161283825,
           0.22134837303342783,
           0.2194033512866795,
           -0.08070070981016696,
           -0.05898999903461283,
           -0.055901231300968315,
           -0.04685841151354558,
           -0.037093079770128594,
           -0.03650037552721859,
           0.2635512016721678
          ],
          [
           -0.01849355375769933,
           -0.2861229539031144,
           -0.06609605640043047,
           0.1140249028571366,
           0.03268767333723676,
           -0.05304843725816334,
           0.5742450926204379,
           0.7665516829341017,
           1,
           0.7773588733012726,
           0.6867745109947853,
           0.6326835927184455,
           0.20847288868976013,
           0.23729453440292753,
           0.2274943266955615,
           0.22720228070078952,
           0.22514519307202235,
           0.2223267374363066,
           0.0012948143319480216,
           -0.06679339566551329,
           -0.05331077958610196,
           -0.04606653388796151,
           -0.03586307056136118,
           -0.035861083718773175,
           0.23525251372491712
          ],
          [
           -0.0027348897819592004,
           -0.267460009639393,
           -0.060173238366203696,
           0.10879345615278765,
           0.03312154891405528,
           -0.049721673995377226,
           0.5388406268712334,
           0.6620671310239591,
           0.7773588733012726,
           1,
           0.8198353114868158,
           0.7164494815807845,
           0.20281206938744922,
           0.2258163160680882,
           0.24498313796206864,
           0.2459172041984382,
           0.24290205842488452,
           0.2391541296058393,
           -0.009362135754402232,
           -0.001943656607903994,
           -0.0692352035676869,
           -0.04346142965539442,
           -0.033589534748121486,
           -0.026565087967650867,
           0.21661363684242388
          ],
          [
           -0.022199231870021336,
           -0.2494113948241093,
           -0.055063885035226384,
           0.09752016063019563,
           0.03562917036655554,
           -0.05382597641308578,
           0.5094260636654446,
           0.6227802453768703,
           0.6867745109947853,
           0.8198353114868158,
           1,
           0.8169001604176753,
           0.2066839642440959,
           0.22691326699152847,
           0.24333468092023638,
           0.271915006998107,
           0.2697830901511351,
           0.26250925166841726,
           -0.006088757138842231,
           -0.003191332307052815,
           0.009062362681555539,
           -0.05829886530946838,
           -0.03333650421280087,
           -0.023027450987595774,
           0.2041489138761645
          ],
          [
           -0.020270134067212064,
           -0.23519539948542492,
           -0.044007788187657874,
           0.08231598637746822,
           0.034344765997445445,
           -0.04877342642832421,
           0.4745530860641517,
           0.5755008617793054,
           0.6326835927184455,
           0.7164494815807845,
           0.8169001604176753,
           1,
           0.20737313129566123,
           0.22692443093066755,
           0.24118114604232158,
           0.2663560690339078,
           0.29089374494860704,
           0.28509099069256866,
           -0.0014962890433180716,
           -0.005223268144054586,
           0.005833774192896976,
           0.019017863282441618,
           -0.04643364107299659,
           -0.025299338462285336,
           0.18686636165354611
          ],
          [
           0.019388673917611145,
           0.28542986496498995,
           -0.03364186958914916,
           0.023581180737114394,
           -0.02347180191012958,
           0.05623853326056659,
           0.18706843147380112,
           0.23488652660358378,
           0.20847288868976013,
           0.20281206938744922,
           0.2066839642440959,
           0.20737313129566123,
           1,
           0.9514836727518136,
           0.8922785291271761,
           0.8602721890293095,
           0.8297786058330013,
           0.8026501885528455,
           0.14027727757532418,
           0.0993550349727683,
           0.15688713847568506,
           0.15830253328354005,
           0.16702571208291594,
           0.17934112200688435,
           -0.019644197143221562
          ],
          [
           0.017981897457701318,
           0.27831436399776105,
           -0.031183472229667317,
           0.01874877080832243,
           -0.021601779859030307,
           0.05428307435034244,
           0.18985910889354435,
           0.23525694274352654,
           0.23729453440292753,
           0.2258163160680882,
           0.22691326699152847,
           0.22692443093066755,
           0.9514836727518136,
           1,
           0.9283262592714855,
           0.8924822912577209,
           0.859778307271445,
           0.8315935591018213,
           0.28036535701409987,
           0.10085087751752875,
           0.1507181937016751,
           0.14739810422001154,
           0.1579574116239642,
           0.17425616563434326,
           -0.014193218088215756
          ],
          [
           0.024354050018843155,
           0.28323578358168416,
           -0.024563311681403167,
           0.013002400711998924,
           -0.024909451022500993,
           0.053709705178660236,
           0.17978528216681916,
           0.22414585503162604,
           0.2274943266955615,
           0.24498313796206864,
           0.24333468092023638,
           0.24118114604232158,
           0.8922785291271761,
           0.9283262592714855,
           1,
           0.9239694565909823,
           0.8839096973620155,
           0.8533200905940468,
           0.24433523760815992,
           0.3169359771796906,
           0.1300111816244208,
           0.14340460499244426,
           0.17971235040649314,
           0.18232596615205338,
           -0.014075518043214726
          ],
          [
           0.040350602942506635,
           0.29398762371598486,
           -0.02187967907348509,
           -0.0004513453087491106,
           -0.023343846915375947,
           0.051353093243321435,
           0.1791247706258787,
           0.22223651161283825,
           0.22720228070078952,
           0.2459172041984382,
           0.271915006998107,
           0.2663560690339078,
           0.8602721890293095,
           0.8924822912577209,
           0.9239694565909823,
           1,
           0.9401344040880004,
           0.9009409547978421,
           0.23301185215343712,
           0.20756372904207548,
           0.3000225291116479,
           0.13019140778780797,
           0.16043303762900443,
           0.1776369941867446,
           -0.010156495880289674
          ],
          [
           0.01670530315635218,
           0.29556233765823164,
           -0.017005180187325976,
           -0.007566503046841711,
           -0.02539339799127468,
           0.04934504811261178,
           0.18063462540120856,
           0.22134837303342783,
           0.22514519307202235,
           0.24290205842488452,
           0.2697830901511351,
           0.29089374494860704,
           0.8297786058330013,
           0.859778307271445,
           0.8839096973620155,
           0.9401344040880004,
           1,
           0.9461968070521957,
           0.2170308237780502,
           0.1812464910522769,
           0.25230486173062916,
           0.2931184631844312,
           0.1415741799596068,
           0.16418445035361773,
           -0.006760463841014779
          ],
          [
           0.016729618316253813,
           0.29038895064794745,
           -0.016733126348159072,
           -0.009098954697455372,
           -0.02120682480007915,
           0.047612677990511255,
           0.1769802956414379,
           0.2194033512866795,
           0.2223267374363066,
           0.2391541296058393,
           0.26250925166841726,
           0.28509099069256866,
           0.8026501885528455,
           0.8315935591018213,
           0.8533200905940468,
           0.9009409547978421,
           0.9461968070521957,
           1,
           0.199965006163385,
           0.1726629374180296,
           0.23376979332693368,
           0.2502368249334362,
           0.3077288895011546,
           0.11549416685164447,
           -0.005372314914815558
          ],
          [
           0.009742443464325092,
           0.1952359152322094,
           -0.00024245456294142142,
           -0.03745618391311648,
           -0.005978999780835323,
           0.026146679056989194,
           -0.0792687111854195,
           -0.08070070981016696,
           0.0012948143319480216,
           -0.009362135754402232,
           -0.006088757138842231,
           -0.0014962890433180716,
           0.14027727757532418,
           0.28036535701409987,
           0.24433523760815992,
           0.23301185215343712,
           0.2170308237780502,
           0.199965006163385,
           1,
           0.2855755286868426,
           0.2521911389524029,
           0.1995579311706798,
           0.14845927501534273,
           0.1857352554457264,
           -0.07292948777785163
          ],
          [
           0.008406120336439189,
           0.17840795368370507,
           -0.0013909096590868529,
           -0.030038186562838978,
           -0.008092702837779889,
           0.021784893392614194,
           -0.0701005211939387,
           -0.05898999903461283,
           -0.06679339566551329,
           -0.001943656607903994,
           -0.003191332307052815,
           -0.005223268144054586,
           0.0993550349727683,
           0.10085087751752875,
           0.3169359771796906,
           0.20756372904207548,
           0.1812464910522769,
           0.1726629374180296,
           0.2855755286868426,
           1,
           0.24477045029284544,
           0.1801067436456232,
           0.18090775259417008,
           0.1576339162723367,
           -0.058578706582901575
          ],
          [
           0.03915053548888941,
           0.21016674772338803,
           -0.008596624911743908,
           -0.039943140867107346,
           -0.0035413519467573816,
           0.029247353045011425,
           -0.07056083767035479,
           -0.055901231300968315,
           -0.05331077958610196,
           -0.0692352035676869,
           0.009062362681555539,
           0.005833774192896976,
           0.15688713847568506,
           0.1507181937016751,
           0.1300111816244208,
           0.3000225291116479,
           0.25230486173062916,
           0.23376979332693368,
           0.2521911389524029,
           0.24477045029284544,
           1,
           0.21632509170084377,
           0.1592137203087127,
           0.16274003329183245,
           -0.056250350990331634
          ],
          [
           0.007793129725698235,
           0.20324241022458292,
           -0.0022289715070058893,
           -0.03821816611134147,
           -0.01265927889271911,
           0.021379005615589863,
           -0.06400488888773119,
           -0.04685841151354558,
           -0.04606653388796151,
           -0.04346142965539442,
           -0.05829886530946838,
           0.019017863282441618,
           0.15830253328354005,
           0.14739810422001154,
           0.14340460499244426,
           0.13019140778780797,
           0.2931184631844312,
           0.2502368249334362,
           0.1995579311706798,
           0.1801067436456232,
           0.21632509170084377,
           1,
           0.15183043582617883,
           0.15783391560137267,
           -0.05682740089288691
          ],
          [
           0.0006521877787619749,
           0.21720243239549614,
           -0.001667161800474087,
           -0.040358454928196924,
           -0.0012047569155652466,
           0.02284997355855876,
           -0.058189885949777295,
           -0.037093079770128594,
           -0.03586307056136118,
           -0.033589534748121486,
           -0.03333650421280087,
           -0.04643364107299659,
           0.16702571208291594,
           0.1579574116239642,
           0.17971235040649314,
           0.16043303762900443,
           0.1415741799596068,
           0.3077288895011546,
           0.14845927501534273,
           0.18090775259417008,
           0.1592137203087127,
           0.15183043582617883,
           1,
           0.15489552525961545,
           -0.05512351562108876
          ],
          [
           0.0029997807225257667,
           0.21959536860441753,
           -0.002766022282891727,
           -0.03719990308916937,
           -0.006640941925653474,
           0.0194781529698698,
           -0.058673214376070426,
           -0.03650037552721859,
           -0.035861083718773175,
           -0.026565087967650867,
           -0.023027450987595774,
           -0.025299338462285336,
           0.17934112200688435,
           0.17425616563434326,
           0.18232596615205338,
           0.1776369941867446,
           0.16418445035361773,
           0.11549416685164447,
           0.1857352554457264,
           0.1576339162723367,
           0.16274003329183245,
           0.15783391560137267,
           0.15489552525961545,
           1,
           -0.05318334032612796
          ],
          [
           -0.013951954838986251,
           -0.1535198763935072,
           -0.03996057770544172,
           0.028006077656250204,
           -0.024339215683404438,
           0.013889834301962887,
           0.32479372847862237,
           0.2635512016721678,
           0.23525251372491712,
           0.21661363684242388,
           0.2041489138761645,
           0.18686636165354611,
           -0.019644197143221562,
           -0.014193218088215756,
           -0.014075518043214726,
           -0.010156495880289674,
           -0.006760463841014779,
           -0.005372314914815558,
           -0.07292948777785163,
           -0.058578706582901575,
           -0.056250350990331634,
           -0.05682740089288691,
           -0.05512351562108876,
           -0.05318334032612796,
           1
          ]
         ]
        }
       ],
       "layout": {
        "coloraxis": {
         "colorscale": [
          [
           0,
           "#0d0887"
          ],
          [
           0.1111111111111111,
           "#46039f"
          ],
          [
           0.2222222222222222,
           "#7201a8"
          ],
          [
           0.3333333333333333,
           "#9c179e"
          ],
          [
           0.4444444444444444,
           "#bd3786"
          ],
          [
           0.5555555555555556,
           "#d8576b"
          ],
          [
           0.6666666666666666,
           "#ed7953"
          ],
          [
           0.7777777777777778,
           "#fb9f3a"
          ],
          [
           0.8888888888888888,
           "#fdca26"
          ],
          [
           1,
           "#f0f921"
          ]
         ]
        },
        "height": 900,
        "margin": {
         "t": 60
        },
        "template": {
         "data": {
          "bar": [
           {
            "error_x": {
             "color": "#2a3f5f"
            },
            "error_y": {
             "color": "#2a3f5f"
            },
            "marker": {
             "line": {
              "color": "#E5ECF6",
              "width": 0.5
             },
             "pattern": {
              "fillmode": "overlay",
              "size": 10,
              "solidity": 0.2
             }
            },
            "type": "bar"
           }
          ],
          "barpolar": [
           {
            "marker": {
             "line": {
              "color": "#E5ECF6",
              "width": 0.5
             },
             "pattern": {
              "fillmode": "overlay",
              "size": 10,
              "solidity": 0.2
             }
            },
            "type": "barpolar"
           }
          ],
          "carpet": [
           {
            "aaxis": {
             "endlinecolor": "#2a3f5f",
             "gridcolor": "white",
             "linecolor": "white",
             "minorgridcolor": "white",
             "startlinecolor": "#2a3f5f"
            },
            "baxis": {
             "endlinecolor": "#2a3f5f",
             "gridcolor": "white",
             "linecolor": "white",
             "minorgridcolor": "white",
             "startlinecolor": "#2a3f5f"
            },
            "type": "carpet"
           }
          ],
          "choropleth": [
           {
            "colorbar": {
             "outlinewidth": 0,
             "ticks": ""
            },
            "type": "choropleth"
           }
          ],
          "contour": [
           {
            "colorbar": {
             "outlinewidth": 0,
             "ticks": ""
            },
            "colorscale": [
             [
              0,
              "#0d0887"
             ],
             [
              0.1111111111111111,
              "#46039f"
             ],
             [
              0.2222222222222222,
              "#7201a8"
             ],
             [
              0.3333333333333333,
              "#9c179e"
             ],
             [
              0.4444444444444444,
              "#bd3786"
             ],
             [
              0.5555555555555556,
              "#d8576b"
             ],
             [
              0.6666666666666666,
              "#ed7953"
             ],
             [
              0.7777777777777778,
              "#fb9f3a"
             ],
             [
              0.8888888888888888,
              "#fdca26"
             ],
             [
              1,
              "#f0f921"
             ]
            ],
            "type": "contour"
           }
          ],
          "contourcarpet": [
           {
            "colorbar": {
             "outlinewidth": 0,
             "ticks": ""
            },
            "type": "contourcarpet"
           }
          ],
          "heatmap": [
           {
            "colorbar": {
             "outlinewidth": 0,
             "ticks": ""
            },
            "colorscale": [
             [
              0,
              "#0d0887"
             ],
             [
              0.1111111111111111,
              "#46039f"
             ],
             [
              0.2222222222222222,
              "#7201a8"
             ],
             [
              0.3333333333333333,
              "#9c179e"
             ],
             [
              0.4444444444444444,
              "#bd3786"
             ],
             [
              0.5555555555555556,
              "#d8576b"
             ],
             [
              0.6666666666666666,
              "#ed7953"
             ],
             [
              0.7777777777777778,
              "#fb9f3a"
             ],
             [
              0.8888888888888888,
              "#fdca26"
             ],
             [
              1,
              "#f0f921"
             ]
            ],
            "type": "heatmap"
           }
          ],
          "heatmapgl": [
           {
            "colorbar": {
             "outlinewidth": 0,
             "ticks": ""
            },
            "colorscale": [
             [
              0,
              "#0d0887"
             ],
             [
              0.1111111111111111,
              "#46039f"
             ],
             [
              0.2222222222222222,
              "#7201a8"
             ],
             [
              0.3333333333333333,
              "#9c179e"
             ],
             [
              0.4444444444444444,
              "#bd3786"
             ],
             [
              0.5555555555555556,
              "#d8576b"
             ],
             [
              0.6666666666666666,
              "#ed7953"
             ],
             [
              0.7777777777777778,
              "#fb9f3a"
             ],
             [
              0.8888888888888888,
              "#fdca26"
             ],
             [
              1,
              "#f0f921"
             ]
            ],
            "type": "heatmapgl"
           }
          ],
          "histogram": [
           {
            "marker": {
             "pattern": {
              "fillmode": "overlay",
              "size": 10,
              "solidity": 0.2
             }
            },
            "type": "histogram"
           }
          ],
          "histogram2d": [
           {
            "colorbar": {
             "outlinewidth": 0,
             "ticks": ""
            },
            "colorscale": [
             [
              0,
              "#0d0887"
             ],
             [
              0.1111111111111111,
              "#46039f"
             ],
             [
              0.2222222222222222,
              "#7201a8"
             ],
             [
              0.3333333333333333,
              "#9c179e"
             ],
             [
              0.4444444444444444,
              "#bd3786"
             ],
             [
              0.5555555555555556,
              "#d8576b"
             ],
             [
              0.6666666666666666,
              "#ed7953"
             ],
             [
              0.7777777777777778,
              "#fb9f3a"
             ],
             [
              0.8888888888888888,
              "#fdca26"
             ],
             [
              1,
              "#f0f921"
             ]
            ],
            "type": "histogram2d"
           }
          ],
          "histogram2dcontour": [
           {
            "colorbar": {
             "outlinewidth": 0,
             "ticks": ""
            },
            "colorscale": [
             [
              0,
              "#0d0887"
             ],
             [
              0.1111111111111111,
              "#46039f"
             ],
             [
              0.2222222222222222,
              "#7201a8"
             ],
             [
              0.3333333333333333,
              "#9c179e"
             ],
             [
              0.4444444444444444,
              "#bd3786"
             ],
             [
              0.5555555555555556,
              "#d8576b"
             ],
             [
              0.6666666666666666,
              "#ed7953"
             ],
             [
              0.7777777777777778,
              "#fb9f3a"
             ],
             [
              0.8888888888888888,
              "#fdca26"
             ],
             [
              1,
              "#f0f921"
             ]
            ],
            "type": "histogram2dcontour"
           }
          ],
          "mesh3d": [
           {
            "colorbar": {
             "outlinewidth": 0,
             "ticks": ""
            },
            "type": "mesh3d"
           }
          ],
          "parcoords": [
           {
            "line": {
             "colorbar": {
              "outlinewidth": 0,
              "ticks": ""
             }
            },
            "type": "parcoords"
           }
          ],
          "pie": [
           {
            "automargin": true,
            "type": "pie"
           }
          ],
          "scatter": [
           {
            "fillpattern": {
             "fillmode": "overlay",
             "size": 10,
             "solidity": 0.2
            },
            "type": "scatter"
           }
          ],
          "scatter3d": [
           {
            "line": {
             "colorbar": {
              "outlinewidth": 0,
              "ticks": ""
             }
            },
            "marker": {
             "colorbar": {
              "outlinewidth": 0,
              "ticks": ""
             }
            },
            "type": "scatter3d"
           }
          ],
          "scattercarpet": [
           {
            "marker": {
             "colorbar": {
              "outlinewidth": 0,
              "ticks": ""
             }
            },
            "type": "scattercarpet"
           }
          ],
          "scattergeo": [
           {
            "marker": {
             "colorbar": {
              "outlinewidth": 0,
              "ticks": ""
             }
            },
            "type": "scattergeo"
           }
          ],
          "scattergl": [
           {
            "marker": {
             "colorbar": {
              "outlinewidth": 0,
              "ticks": ""
             }
            },
            "type": "scattergl"
           }
          ],
          "scattermapbox": [
           {
            "marker": {
             "colorbar": {
              "outlinewidth": 0,
              "ticks": ""
             }
            },
            "type": "scattermapbox"
           }
          ],
          "scatterpolar": [
           {
            "marker": {
             "colorbar": {
              "outlinewidth": 0,
              "ticks": ""
             }
            },
            "type": "scatterpolar"
           }
          ],
          "scatterpolargl": [
           {
            "marker": {
             "colorbar": {
              "outlinewidth": 0,
              "ticks": ""
             }
            },
            "type": "scatterpolargl"
           }
          ],
          "scatterternary": [
           {
            "marker": {
             "colorbar": {
              "outlinewidth": 0,
              "ticks": ""
             }
            },
            "type": "scatterternary"
           }
          ],
          "surface": [
           {
            "colorbar": {
             "outlinewidth": 0,
             "ticks": ""
            },
            "colorscale": [
             [
              0,
              "#0d0887"
             ],
             [
              0.1111111111111111,
              "#46039f"
             ],
             [
              0.2222222222222222,
              "#7201a8"
             ],
             [
              0.3333333333333333,
              "#9c179e"
             ],
             [
              0.4444444444444444,
              "#bd3786"
             ],
             [
              0.5555555555555556,
              "#d8576b"
             ],
             [
              0.6666666666666666,
              "#ed7953"
             ],
             [
              0.7777777777777778,
              "#fb9f3a"
             ],
             [
              0.8888888888888888,
              "#fdca26"
             ],
             [
              1,
              "#f0f921"
             ]
            ],
            "type": "surface"
           }
          ],
          "table": [
           {
            "cells": {
             "fill": {
              "color": "#EBF0F8"
             },
             "line": {
              "color": "white"
             }
            },
            "header": {
             "fill": {
              "color": "#C8D4E3"
             },
             "line": {
              "color": "white"
             }
            },
            "type": "table"
           }
          ]
         },
         "layout": {
          "annotationdefaults": {
           "arrowcolor": "#2a3f5f",
           "arrowhead": 0,
           "arrowwidth": 1
          },
          "autotypenumbers": "strict",
          "coloraxis": {
           "colorbar": {
            "outlinewidth": 0,
            "ticks": ""
           }
          },
          "colorscale": {
           "diverging": [
            [
             0,
             "#8e0152"
            ],
            [
             0.1,
             "#c51b7d"
            ],
            [
             0.2,
             "#de77ae"
            ],
            [
             0.3,
             "#f1b6da"
            ],
            [
             0.4,
             "#fde0ef"
            ],
            [
             0.5,
             "#f7f7f7"
            ],
            [
             0.6,
             "#e6f5d0"
            ],
            [
             0.7,
             "#b8e186"
            ],
            [
             0.8,
             "#7fbc41"
            ],
            [
             0.9,
             "#4d9221"
            ],
            [
             1,
             "#276419"
            ]
           ],
           "sequential": [
            [
             0,
             "#0d0887"
            ],
            [
             0.1111111111111111,
             "#46039f"
            ],
            [
             0.2222222222222222,
             "#7201a8"
            ],
            [
             0.3333333333333333,
             "#9c179e"
            ],
            [
             0.4444444444444444,
             "#bd3786"
            ],
            [
             0.5555555555555556,
             "#d8576b"
            ],
            [
             0.6666666666666666,
             "#ed7953"
            ],
            [
             0.7777777777777778,
             "#fb9f3a"
            ],
            [
             0.8888888888888888,
             "#fdca26"
            ],
            [
             1,
             "#f0f921"
            ]
           ],
           "sequentialminus": [
            [
             0,
             "#0d0887"
            ],
            [
             0.1111111111111111,
             "#46039f"
            ],
            [
             0.2222222222222222,
             "#7201a8"
            ],
            [
             0.3333333333333333,
             "#9c179e"
            ],
            [
             0.4444444444444444,
             "#bd3786"
            ],
            [
             0.5555555555555556,
             "#d8576b"
            ],
            [
             0.6666666666666666,
             "#ed7953"
            ],
            [
             0.7777777777777778,
             "#fb9f3a"
            ],
            [
             0.8888888888888888,
             "#fdca26"
            ],
            [
             1,
             "#f0f921"
            ]
           ]
          },
          "colorway": [
           "#636efa",
           "#EF553B",
           "#00cc96",
           "#ab63fa",
           "#FFA15A",
           "#19d3f3",
           "#FF6692",
           "#B6E880",
           "#FF97FF",
           "#FECB52"
          ],
          "font": {
           "color": "#2a3f5f"
          },
          "geo": {
           "bgcolor": "white",
           "lakecolor": "white",
           "landcolor": "#E5ECF6",
           "showlakes": true,
           "showland": true,
           "subunitcolor": "white"
          },
          "hoverlabel": {
           "align": "left"
          },
          "hovermode": "closest",
          "mapbox": {
           "style": "light"
          },
          "paper_bgcolor": "white",
          "plot_bgcolor": "#E5ECF6",
          "polar": {
           "angularaxis": {
            "gridcolor": "white",
            "linecolor": "white",
            "ticks": ""
           },
           "bgcolor": "#E5ECF6",
           "radialaxis": {
            "gridcolor": "white",
            "linecolor": "white",
            "ticks": ""
           }
          },
          "scene": {
           "xaxis": {
            "backgroundcolor": "#E5ECF6",
            "gridcolor": "white",
            "gridwidth": 2,
            "linecolor": "white",
            "showbackground": true,
            "ticks": "",
            "zerolinecolor": "white"
           },
           "yaxis": {
            "backgroundcolor": "#E5ECF6",
            "gridcolor": "white",
            "gridwidth": 2,
            "linecolor": "white",
            "showbackground": true,
            "ticks": "",
            "zerolinecolor": "white"
           },
           "zaxis": {
            "backgroundcolor": "#E5ECF6",
            "gridcolor": "white",
            "gridwidth": 2,
            "linecolor": "white",
            "showbackground": true,
            "ticks": "",
            "zerolinecolor": "white"
           }
          },
          "shapedefaults": {
           "line": {
            "color": "#2a3f5f"
           }
          },
          "ternary": {
           "aaxis": {
            "gridcolor": "white",
            "linecolor": "white",
            "ticks": ""
           },
           "baxis": {
            "gridcolor": "white",
            "linecolor": "white",
            "ticks": ""
           },
           "bgcolor": "#E5ECF6",
           "caxis": {
            "gridcolor": "white",
            "linecolor": "white",
            "ticks": ""
           }
          },
          "title": {
           "x": 0.05
          },
          "xaxis": {
           "automargin": true,
           "gridcolor": "white",
           "linecolor": "white",
           "ticks": "",
           "title": {
            "standoff": 15
           },
           "zerolinecolor": "white",
           "zerolinewidth": 2
          },
          "yaxis": {
           "automargin": true,
           "gridcolor": "white",
           "linecolor": "white",
           "ticks": "",
           "title": {
            "standoff": 15
           },
           "zerolinecolor": "white",
           "zerolinewidth": 2
          }
         }
        },
        "width": 950,
        "xaxis": {
         "anchor": "y",
         "constrain": "domain",
         "domain": [
          0,
          1
         ],
         "scaleanchor": "y"
        },
        "yaxis": {
         "anchor": "x",
         "autorange": "reversed",
         "constrain": "domain",
         "domain": [
          0,
          1
         ]
        }
       }
      }
     },
     "metadata": {},
     "output_type": "display_data"
    }
   ],
   "source": [
    "# plot the correlation heatmap\n",
    "fig = px.imshow(corr, text_auto=True)\n",
    "fig.update_layout(\n",
    "    height=900,\n",
    "    width=950\n",
    ")\n",
    "fig.show()"
   ]
  },
  {
   "cell_type": "markdown",
   "metadata": {},
   "source": [
    "Extract the relationship between each independent variable and the target variable. "
   ]
  },
  {
   "cell_type": "code",
   "execution_count": 20,
   "metadata": {},
   "outputs": [
    {
     "data": {
      "application/vnd.plotly.v1+json": {
       "config": {
        "plotlyServerURL": "https://plot.ly"
       },
       "data": [
        {
         "text": [
          -0.1535198763935072,
          -0.07292948777785163,
          -0.058578706582901575,
          -0.05682740089288691,
          -0.056250350990331634,
          -0.05512351562108876,
          -0.05318334032612796,
          -0.03996057770544172,
          -0.024339215683404438,
          -0.019644197143221562,
          -0.014193218088215756,
          -0.014075518043214726,
          -0.013951954838986251,
          -0.010156495880289674,
          -0.006760463841014779,
          -0.005372314914815558,
          0.013889834301962887,
          0.028006077656250204,
          0.18686636165354611,
          0.2041489138761645,
          0.21661363684242388,
          0.23525251372491712,
          0.2635512016721678,
          0.32479372847862237
         ],
         "type": "bar",
         "x": [
          "LIMIT_BAL",
          "PAY_AMT1",
          "PAY_AMT2",
          "PAY_AMT4",
          "PAY_AMT3",
          "PAY_AMT5",
          "PAY_AMT6",
          "SEX",
          "MARRIAGE",
          "BILL_AMT1",
          "BILL_AMT2",
          "BILL_AMT3",
          "ID",
          "BILL_AMT4",
          "BILL_AMT5",
          "BILL_AMT6",
          "AGE",
          "EDUCATION",
          "PAY_6",
          "PAY_5",
          "PAY_4",
          "PAY_3",
          "PAY_2",
          "PAY_0"
         ],
         "y": [
          -0.1535198763935072,
          -0.07292948777785163,
          -0.058578706582901575,
          -0.05682740089288691,
          -0.056250350990331634,
          -0.05512351562108876,
          -0.05318334032612796,
          -0.03996057770544172,
          -0.024339215683404438,
          -0.019644197143221562,
          -0.014193218088215756,
          -0.014075518043214726,
          -0.013951954838986251,
          -0.010156495880289674,
          -0.006760463841014779,
          -0.005372314914815558,
          0.013889834301962887,
          0.028006077656250204,
          0.18686636165354611,
          0.2041489138761645,
          0.21661363684242388,
          0.23525251372491712,
          0.2635512016721678,
          0.32479372847862237
         ]
        }
       ],
       "layout": {
        "height": 900,
        "margin": {
         "b": 25,
         "l": 25,
         "r": 25
        },
        "plot_bgcolor": "white",
        "showlegend": false,
        "template": {
         "data": {
          "bar": [
           {
            "error_x": {
             "color": "#2a3f5f"
            },
            "error_y": {
             "color": "#2a3f5f"
            },
            "marker": {
             "line": {
              "color": "#E5ECF6",
              "width": 0.5
             },
             "pattern": {
              "fillmode": "overlay",
              "size": 10,
              "solidity": 0.2
             }
            },
            "type": "bar"
           }
          ],
          "barpolar": [
           {
            "marker": {
             "line": {
              "color": "#E5ECF6",
              "width": 0.5
             },
             "pattern": {
              "fillmode": "overlay",
              "size": 10,
              "solidity": 0.2
             }
            },
            "type": "barpolar"
           }
          ],
          "carpet": [
           {
            "aaxis": {
             "endlinecolor": "#2a3f5f",
             "gridcolor": "white",
             "linecolor": "white",
             "minorgridcolor": "white",
             "startlinecolor": "#2a3f5f"
            },
            "baxis": {
             "endlinecolor": "#2a3f5f",
             "gridcolor": "white",
             "linecolor": "white",
             "minorgridcolor": "white",
             "startlinecolor": "#2a3f5f"
            },
            "type": "carpet"
           }
          ],
          "choropleth": [
           {
            "colorbar": {
             "outlinewidth": 0,
             "ticks": ""
            },
            "type": "choropleth"
           }
          ],
          "contour": [
           {
            "colorbar": {
             "outlinewidth": 0,
             "ticks": ""
            },
            "colorscale": [
             [
              0,
              "#0d0887"
             ],
             [
              0.1111111111111111,
              "#46039f"
             ],
             [
              0.2222222222222222,
              "#7201a8"
             ],
             [
              0.3333333333333333,
              "#9c179e"
             ],
             [
              0.4444444444444444,
              "#bd3786"
             ],
             [
              0.5555555555555556,
              "#d8576b"
             ],
             [
              0.6666666666666666,
              "#ed7953"
             ],
             [
              0.7777777777777778,
              "#fb9f3a"
             ],
             [
              0.8888888888888888,
              "#fdca26"
             ],
             [
              1,
              "#f0f921"
             ]
            ],
            "type": "contour"
           }
          ],
          "contourcarpet": [
           {
            "colorbar": {
             "outlinewidth": 0,
             "ticks": ""
            },
            "type": "contourcarpet"
           }
          ],
          "heatmap": [
           {
            "colorbar": {
             "outlinewidth": 0,
             "ticks": ""
            },
            "colorscale": [
             [
              0,
              "#0d0887"
             ],
             [
              0.1111111111111111,
              "#46039f"
             ],
             [
              0.2222222222222222,
              "#7201a8"
             ],
             [
              0.3333333333333333,
              "#9c179e"
             ],
             [
              0.4444444444444444,
              "#bd3786"
             ],
             [
              0.5555555555555556,
              "#d8576b"
             ],
             [
              0.6666666666666666,
              "#ed7953"
             ],
             [
              0.7777777777777778,
              "#fb9f3a"
             ],
             [
              0.8888888888888888,
              "#fdca26"
             ],
             [
              1,
              "#f0f921"
             ]
            ],
            "type": "heatmap"
           }
          ],
          "heatmapgl": [
           {
            "colorbar": {
             "outlinewidth": 0,
             "ticks": ""
            },
            "colorscale": [
             [
              0,
              "#0d0887"
             ],
             [
              0.1111111111111111,
              "#46039f"
             ],
             [
              0.2222222222222222,
              "#7201a8"
             ],
             [
              0.3333333333333333,
              "#9c179e"
             ],
             [
              0.4444444444444444,
              "#bd3786"
             ],
             [
              0.5555555555555556,
              "#d8576b"
             ],
             [
              0.6666666666666666,
              "#ed7953"
             ],
             [
              0.7777777777777778,
              "#fb9f3a"
             ],
             [
              0.8888888888888888,
              "#fdca26"
             ],
             [
              1,
              "#f0f921"
             ]
            ],
            "type": "heatmapgl"
           }
          ],
          "histogram": [
           {
            "marker": {
             "pattern": {
              "fillmode": "overlay",
              "size": 10,
              "solidity": 0.2
             }
            },
            "type": "histogram"
           }
          ],
          "histogram2d": [
           {
            "colorbar": {
             "outlinewidth": 0,
             "ticks": ""
            },
            "colorscale": [
             [
              0,
              "#0d0887"
             ],
             [
              0.1111111111111111,
              "#46039f"
             ],
             [
              0.2222222222222222,
              "#7201a8"
             ],
             [
              0.3333333333333333,
              "#9c179e"
             ],
             [
              0.4444444444444444,
              "#bd3786"
             ],
             [
              0.5555555555555556,
              "#d8576b"
             ],
             [
              0.6666666666666666,
              "#ed7953"
             ],
             [
              0.7777777777777778,
              "#fb9f3a"
             ],
             [
              0.8888888888888888,
              "#fdca26"
             ],
             [
              1,
              "#f0f921"
             ]
            ],
            "type": "histogram2d"
           }
          ],
          "histogram2dcontour": [
           {
            "colorbar": {
             "outlinewidth": 0,
             "ticks": ""
            },
            "colorscale": [
             [
              0,
              "#0d0887"
             ],
             [
              0.1111111111111111,
              "#46039f"
             ],
             [
              0.2222222222222222,
              "#7201a8"
             ],
             [
              0.3333333333333333,
              "#9c179e"
             ],
             [
              0.4444444444444444,
              "#bd3786"
             ],
             [
              0.5555555555555556,
              "#d8576b"
             ],
             [
              0.6666666666666666,
              "#ed7953"
             ],
             [
              0.7777777777777778,
              "#fb9f3a"
             ],
             [
              0.8888888888888888,
              "#fdca26"
             ],
             [
              1,
              "#f0f921"
             ]
            ],
            "type": "histogram2dcontour"
           }
          ],
          "mesh3d": [
           {
            "colorbar": {
             "outlinewidth": 0,
             "ticks": ""
            },
            "type": "mesh3d"
           }
          ],
          "parcoords": [
           {
            "line": {
             "colorbar": {
              "outlinewidth": 0,
              "ticks": ""
             }
            },
            "type": "parcoords"
           }
          ],
          "pie": [
           {
            "automargin": true,
            "type": "pie"
           }
          ],
          "scatter": [
           {
            "fillpattern": {
             "fillmode": "overlay",
             "size": 10,
             "solidity": 0.2
            },
            "type": "scatter"
           }
          ],
          "scatter3d": [
           {
            "line": {
             "colorbar": {
              "outlinewidth": 0,
              "ticks": ""
             }
            },
            "marker": {
             "colorbar": {
              "outlinewidth": 0,
              "ticks": ""
             }
            },
            "type": "scatter3d"
           }
          ],
          "scattercarpet": [
           {
            "marker": {
             "colorbar": {
              "outlinewidth": 0,
              "ticks": ""
             }
            },
            "type": "scattercarpet"
           }
          ],
          "scattergeo": [
           {
            "marker": {
             "colorbar": {
              "outlinewidth": 0,
              "ticks": ""
             }
            },
            "type": "scattergeo"
           }
          ],
          "scattergl": [
           {
            "marker": {
             "colorbar": {
              "outlinewidth": 0,
              "ticks": ""
             }
            },
            "type": "scattergl"
           }
          ],
          "scattermapbox": [
           {
            "marker": {
             "colorbar": {
              "outlinewidth": 0,
              "ticks": ""
             }
            },
            "type": "scattermapbox"
           }
          ],
          "scatterpolar": [
           {
            "marker": {
             "colorbar": {
              "outlinewidth": 0,
              "ticks": ""
             }
            },
            "type": "scatterpolar"
           }
          ],
          "scatterpolargl": [
           {
            "marker": {
             "colorbar": {
              "outlinewidth": 0,
              "ticks": ""
             }
            },
            "type": "scatterpolargl"
           }
          ],
          "scatterternary": [
           {
            "marker": {
             "colorbar": {
              "outlinewidth": 0,
              "ticks": ""
             }
            },
            "type": "scatterternary"
           }
          ],
          "surface": [
           {
            "colorbar": {
             "outlinewidth": 0,
             "ticks": ""
            },
            "colorscale": [
             [
              0,
              "#0d0887"
             ],
             [
              0.1111111111111111,
              "#46039f"
             ],
             [
              0.2222222222222222,
              "#7201a8"
             ],
             [
              0.3333333333333333,
              "#9c179e"
             ],
             [
              0.4444444444444444,
              "#bd3786"
             ],
             [
              0.5555555555555556,
              "#d8576b"
             ],
             [
              0.6666666666666666,
              "#ed7953"
             ],
             [
              0.7777777777777778,
              "#fb9f3a"
             ],
             [
              0.8888888888888888,
              "#fdca26"
             ],
             [
              1,
              "#f0f921"
             ]
            ],
            "type": "surface"
           }
          ],
          "table": [
           {
            "cells": {
             "fill": {
              "color": "#EBF0F8"
             },
             "line": {
              "color": "white"
             }
            },
            "header": {
             "fill": {
              "color": "#C8D4E3"
             },
             "line": {
              "color": "white"
             }
            },
            "type": "table"
           }
          ]
         },
         "layout": {
          "annotationdefaults": {
           "arrowcolor": "#2a3f5f",
           "arrowhead": 0,
           "arrowwidth": 1
          },
          "autotypenumbers": "strict",
          "coloraxis": {
           "colorbar": {
            "outlinewidth": 0,
            "ticks": ""
           }
          },
          "colorscale": {
           "diverging": [
            [
             0,
             "#8e0152"
            ],
            [
             0.1,
             "#c51b7d"
            ],
            [
             0.2,
             "#de77ae"
            ],
            [
             0.3,
             "#f1b6da"
            ],
            [
             0.4,
             "#fde0ef"
            ],
            [
             0.5,
             "#f7f7f7"
            ],
            [
             0.6,
             "#e6f5d0"
            ],
            [
             0.7,
             "#b8e186"
            ],
            [
             0.8,
             "#7fbc41"
            ],
            [
             0.9,
             "#4d9221"
            ],
            [
             1,
             "#276419"
            ]
           ],
           "sequential": [
            [
             0,
             "#0d0887"
            ],
            [
             0.1111111111111111,
             "#46039f"
            ],
            [
             0.2222222222222222,
             "#7201a8"
            ],
            [
             0.3333333333333333,
             "#9c179e"
            ],
            [
             0.4444444444444444,
             "#bd3786"
            ],
            [
             0.5555555555555556,
             "#d8576b"
            ],
            [
             0.6666666666666666,
             "#ed7953"
            ],
            [
             0.7777777777777778,
             "#fb9f3a"
            ],
            [
             0.8888888888888888,
             "#fdca26"
            ],
            [
             1,
             "#f0f921"
            ]
           ],
           "sequentialminus": [
            [
             0,
             "#0d0887"
            ],
            [
             0.1111111111111111,
             "#46039f"
            ],
            [
             0.2222222222222222,
             "#7201a8"
            ],
            [
             0.3333333333333333,
             "#9c179e"
            ],
            [
             0.4444444444444444,
             "#bd3786"
            ],
            [
             0.5555555555555556,
             "#d8576b"
            ],
            [
             0.6666666666666666,
             "#ed7953"
            ],
            [
             0.7777777777777778,
             "#fb9f3a"
            ],
            [
             0.8888888888888888,
             "#fdca26"
            ],
            [
             1,
             "#f0f921"
            ]
           ]
          },
          "colorway": [
           "#636efa",
           "#EF553B",
           "#00cc96",
           "#ab63fa",
           "#FFA15A",
           "#19d3f3",
           "#FF6692",
           "#B6E880",
           "#FF97FF",
           "#FECB52"
          ],
          "font": {
           "color": "#2a3f5f"
          },
          "geo": {
           "bgcolor": "white",
           "lakecolor": "white",
           "landcolor": "#E5ECF6",
           "showlakes": true,
           "showland": true,
           "subunitcolor": "white"
          },
          "hoverlabel": {
           "align": "left"
          },
          "hovermode": "closest",
          "mapbox": {
           "style": "light"
          },
          "paper_bgcolor": "white",
          "plot_bgcolor": "#E5ECF6",
          "polar": {
           "angularaxis": {
            "gridcolor": "white",
            "linecolor": "white",
            "ticks": ""
           },
           "bgcolor": "#E5ECF6",
           "radialaxis": {
            "gridcolor": "white",
            "linecolor": "white",
            "ticks": ""
           }
          },
          "scene": {
           "xaxis": {
            "backgroundcolor": "#E5ECF6",
            "gridcolor": "white",
            "gridwidth": 2,
            "linecolor": "white",
            "showbackground": true,
            "ticks": "",
            "zerolinecolor": "white"
           },
           "yaxis": {
            "backgroundcolor": "#E5ECF6",
            "gridcolor": "white",
            "gridwidth": 2,
            "linecolor": "white",
            "showbackground": true,
            "ticks": "",
            "zerolinecolor": "white"
           },
           "zaxis": {
            "backgroundcolor": "#E5ECF6",
            "gridcolor": "white",
            "gridwidth": 2,
            "linecolor": "white",
            "showbackground": true,
            "ticks": "",
            "zerolinecolor": "white"
           }
          },
          "shapedefaults": {
           "line": {
            "color": "#2a3f5f"
           }
          },
          "ternary": {
           "aaxis": {
            "gridcolor": "white",
            "linecolor": "white",
            "ticks": ""
           },
           "baxis": {
            "gridcolor": "white",
            "linecolor": "white",
            "ticks": ""
           },
           "bgcolor": "#E5ECF6",
           "caxis": {
            "gridcolor": "white",
            "linecolor": "white",
            "ticks": ""
           }
          },
          "title": {
           "x": 0.05
          },
          "xaxis": {
           "automargin": true,
           "gridcolor": "white",
           "linecolor": "white",
           "ticks": "",
           "title": {
            "standoff": 15
           },
           "zerolinecolor": "white",
           "zerolinewidth": 2
          },
          "yaxis": {
           "automargin": true,
           "gridcolor": "white",
           "linecolor": "white",
           "ticks": "",
           "title": {
            "standoff": 15
           },
           "zerolinecolor": "white",
           "zerolinewidth": 2
          }
         }
        },
        "title": {
         "font": {
          "size": 14
         },
         "text": "Default Correlation Distribution <br>",
         "x": 0.5,
         "xanchor": "center"
        },
        "width": 950,
        "xaxis": {
         "linecolor": "black",
         "linewidth": 1,
         "showline": true,
         "title": {
          "text": "Independent Variables"
         }
        },
        "yaxis": {
         "linecolor": "black",
         "linewidth": 1,
         "showline": true
        }
       }
      }
     },
     "metadata": {},
     "output_type": "display_data"
    }
   ],
   "source": [
    "fig = go.Figure()\n",
    "fig.add_trace(\n",
    "    go.Bar(x=next_month_default_corr[:-1].index, y= next_month_default_corr[:-1].values, text=next_month_default_corr[:-1].values)\n",
    ")\n",
    "fig.update_layout(\n",
    "      plot_bgcolor=\"white\",\n",
    "      height=900,\n",
    "      width=950,\n",
    "      margin={\n",
    "          \"l\":25,\n",
    "          \"r\":25,\n",
    "          \"b\":25\n",
    "      },\n",
    "      title_text=\"Default Correlation Distribution <br>\",\n",
    "      title={\n",
    "          \"x\":0.5,\n",
    "          \"xanchor\":\"center\",\n",
    "          \"font\":{\n",
    "              \"size\":14\n",
    "          }\n",
    "      },\n",
    "      xaxis_title=\"Independent Variables\",\n",
    "      showlegend=False\n",
    "  )\n",
    "fig.update_xaxes(\n",
    "      showline = True,\n",
    "      linewidth=1,\n",
    "      linecolor=\"black\"\n",
    "  )\n",
    "fig.update_yaxes(\n",
    "      showline = True,\n",
    "      linewidth=1,\n",
    "      linecolor=\"black\"\n",
    "  )\n",
    "fig.show()"
   ]
  },
  {
   "cell_type": "code",
   "execution_count": null,
   "metadata": {},
   "outputs": [],
   "source": []
  }
 ],
 "metadata": {
  "kernelspec": {
   "display_name": "venv",
   "language": "python",
   "name": "python3"
  },
  "language_info": {
   "codemirror_mode": {
    "name": "ipython",
    "version": 3
   },
   "file_extension": ".py",
   "mimetype": "text/x-python",
   "name": "python",
   "nbconvert_exporter": "python",
   "pygments_lexer": "ipython3",
   "version": "3.11.2"
  }
 },
 "nbformat": 4,
 "nbformat_minor": 2
}
